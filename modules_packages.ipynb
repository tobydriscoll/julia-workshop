{
 "cells": [
  {
   "cell_type": "markdown",
   "metadata": {},
   "source": [
    "# Modules\n",
    "\n",
    "Not only can a function have multiple methods, but the definitions of those methods can lie in different units known as *modules*. This is where the compositional ability of Julia comes from."
   ]
  },
  {
   "cell_type": "code",
   "execution_count": 1,
   "metadata": {},
   "outputs": [
    {
     "data": {
      "text/html": [
       "# 1 method for generic function <b>plus1</b>:<ul><li> plus1(x) in Main at <a href=\"https://github.com/tobydriscoll/julia-workshop/tree/32e9dcf76c8ef7619464d973e3474fc56506eac9//modules_packages.ipynb#L1\" target=\"_blank\">/Users/driscoll/repos/julia-workshop/modules_packages.ipynb:1</a></li> </ul>"
      ],
      "text/plain": [
       "# 1 method for generic function \"plus1\":\n",
       "[1] plus1(x) in Main at /Users/driscoll/repos/julia-workshop/modules_packages.ipynb:1"
      ]
     },
     "metadata": {},
     "output_type": "display_data"
    }
   ],
   "source": [
    "plus1(x) = 1 + x \n",
    "methods(plus1)"
   ]
  },
  {
   "cell_type": "markdown",
   "metadata": {},
   "source": [
    "At the REPL, you are considered to be in the module called `Main`, as you see above. \n",
    "\n",
    "We can define submodules within `Main`:"
   ]
  },
  {
   "cell_type": "code",
   "execution_count": 2,
   "metadata": {},
   "outputs": [
    {
     "data": {
      "text/plain": [
       "Main.Foo"
      ]
     },
     "metadata": {},
     "output_type": "display_data"
    }
   ],
   "source": [
    "module Foo \n",
    "\n",
    "using LinearAlgebra\n",
    "plus1(X::AbstractMatrix) = I + X\n",
    "\n",
    "end"
   ]
  },
  {
   "cell_type": "code",
   "execution_count": 3,
   "metadata": {},
   "outputs": [
    {
     "data": {
      "text/html": [
       "# 1 method for generic function <b>plus1</b>:<ul><li> plus1(x) in Main at <a href=\"https://github.com/tobydriscoll/julia-workshop/tree/32e9dcf76c8ef7619464d973e3474fc56506eac9//modules_packages.ipynb#L1\" target=\"_blank\">/Users/driscoll/repos/julia-workshop/modules_packages.ipynb:1</a></li> </ul>"
      ],
      "text/plain": [
       "# 1 method for generic function \"plus1\":\n",
       "[1] plus1(x) in Main at /Users/driscoll/repos/julia-workshop/modules_packages.ipynb:1"
      ]
     },
     "metadata": {},
     "output_type": "display_data"
    }
   ],
   "source": [
    "methods(plus1)"
   ]
  },
  {
   "cell_type": "markdown",
   "metadata": {},
   "source": [
    "A `using` or `import` statement pulls in methods and variables defined in a module. With `import`, you always need to include the module name to call the methods. With `using`, the included module has the option to expose its methods without needing the prefix."
   ]
  },
  {
   "cell_type": "markdown",
   "metadata": {},
   "source": [
    "Note that here, the bare method name is not affected by the `using` statement, and the prefix remains necessary:"
   ]
  },
  {
   "cell_type": "code",
   "execution_count": 4,
   "metadata": {},
   "outputs": [
    {
     "data": {
      "text/html": [
       "# 1 method for generic function <b>plus1</b>:<ul><li> plus1(x) in Main at <a href=\"https://github.com/tobydriscoll/julia-workshop/tree/32e9dcf76c8ef7619464d973e3474fc56506eac9//modules_packages.ipynb#L1\" target=\"_blank\">/Users/driscoll/repos/julia-workshop/modules_packages.ipynb:1</a></li> </ul>"
      ],
      "text/plain": [
       "# 1 method for generic function \"plus1\":\n",
       "[1] plus1(x) in Main at /Users/driscoll/repos/julia-workshop/modules_packages.ipynb:1"
      ]
     },
     "metadata": {},
     "output_type": "display_data"
    }
   ],
   "source": [
    "using Main.Foo\n",
    "methods(plus1)"
   ]
  },
  {
   "cell_type": "code",
   "execution_count": 5,
   "metadata": {},
   "outputs": [
    {
     "data": {
      "text/html": [
       "# 1 method for generic function <b>plus1</b>:<ul><li> plus1(X::<b>AbstractMatrix</b>) in Main.Foo at <a href=\"https://github.com/tobydriscoll/julia-workshop/tree/32e9dcf76c8ef7619464d973e3474fc56506eac9//modules_packages.ipynb#L4\" target=\"_blank\">/Users/driscoll/repos/julia-workshop/modules_packages.ipynb:4</a></li> </ul>"
      ],
      "text/plain": [
       "# 1 method for generic function \"plus1\":\n",
       "[1] plus1(X::AbstractMatrix) in Main.Foo at /Users/driscoll/repos/julia-workshop/modules_packages.ipynb:4"
      ]
     },
     "metadata": {},
     "output_type": "display_data"
    }
   ],
   "source": [
    "methods(Foo.plus1)"
   ]
  },
  {
   "cell_type": "markdown",
   "metadata": {},
   "source": [
    "Here, the module chooses to `export` some method names, so that the prefix is not needed."
   ]
  },
  {
   "cell_type": "code",
   "execution_count": 6,
   "metadata": {},
   "outputs": [
    {
     "data": {
      "text/plain": [
       "Main.Bar"
      ]
     },
     "metadata": {},
     "output_type": "display_data"
    }
   ],
   "source": [
    "module Bar \n",
    "\n",
    "export plus1\n",
    "plus1(t::Tuple) = (1,t...)\n",
    "\n",
    "export plusone\n",
    "plusone(t::Tuple) = plus1(t)\n",
    "\n",
    "plustwo(t::Tuple) = plus1(plus1(t))\n",
    "\n",
    "end"
   ]
  },
  {
   "cell_type": "markdown",
   "metadata": {},
   "source": [
    "As an exported method, `plusone` is now accessible without the method prefix."
   ]
  },
  {
   "cell_type": "code",
   "execution_count": 7,
   "metadata": {},
   "outputs": [
    {
     "name": "stderr",
     "output_type": "stream",
     "text": [
      "WARNING: using Bar.plus1 in module Main conflicts with an existing identifier.\n"
     ]
    },
    {
     "data": {
      "text/html": [
       "# 1 method for generic function <b>plusone</b>:<ul><li> plusone(t::<b>Tuple</b>) in Main.Bar at <a href=\"https://github.com/tobydriscoll/julia-workshop/tree/32e9dcf76c8ef7619464d973e3474fc56506eac9//modules_packages.ipynb#L7\" target=\"_blank\">/Users/driscoll/repos/julia-workshop/modules_packages.ipynb:7</a></li> </ul>"
      ],
      "text/plain": [
       "# 1 method for generic function \"plusone\":\n",
       "[1] plusone(t::Tuple) in Main.Bar at /Users/driscoll/repos/julia-workshop/modules_packages.ipynb:7"
      ]
     },
     "metadata": {},
     "output_type": "display_data"
    }
   ],
   "source": [
    "using .Bar\n",
    "methods(plusone)"
   ]
  },
  {
   "cell_type": "code",
   "execution_count": 8,
   "metadata": {},
   "outputs": [
    {
     "data": {
      "text/plain": [
       "(1, 2, 3)"
      ]
     },
     "metadata": {},
     "output_type": "display_data"
    }
   ],
   "source": [
    "plusone((2,3))"
   ]
  },
  {
   "cell_type": "markdown",
   "metadata": {},
   "source": [
    "Because `plus1` was already defined in the Main workspace, however, its new definition must be qualified with the prefix anyway."
   ]
  },
  {
   "cell_type": "code",
   "execution_count": null,
   "metadata": {},
   "outputs": [],
   "source": [
    "plus1((2,3))  # error"
   ]
  },
  {
   "cell_type": "code",
   "execution_count": 9,
   "metadata": {},
   "outputs": [
    {
     "data": {
      "text/plain": [
       "(1, 2, 3)"
      ]
     },
     "metadata": {},
     "output_type": "display_data"
    }
   ],
   "source": [
    "Bar.plus1((2,3))"
   ]
  },
  {
   "cell_type": "markdown",
   "metadata": {},
   "source": [
    "We can work around that limitation if the new module does an `import` of the function before adding a method to it. "
   ]
  },
  {
   "cell_type": "code",
   "execution_count": 10,
   "metadata": {},
   "outputs": [
    {
     "data": {
      "text/plain": [
       "Main.Baz"
      ]
     },
     "metadata": {},
     "output_type": "display_data"
    }
   ],
   "source": [
    "module Baz\n",
    "\n",
    "import Main:plus1 \n",
    "plus1(v::AbstractVector) = [1;v]\n",
    "\n",
    "end\n"
   ]
  },
  {
   "cell_type": "markdown",
   "metadata": {},
   "source": [
    "Now, the new method from `Baz` does not need the prefix."
   ]
  },
  {
   "cell_type": "code",
   "execution_count": 11,
   "metadata": {},
   "outputs": [
    {
     "data": {
      "text/html": [
       "# 2 methods for generic function <b>plus1</b>:<ul><li> plus1(v::<b>AbstractVector</b>) in Main.Baz at <a href=\"https://github.com/tobydriscoll/julia-workshop/tree/32e9dcf76c8ef7619464d973e3474fc56506eac9//modules_packages.ipynb#L4\" target=\"_blank\">/Users/driscoll/repos/julia-workshop/modules_packages.ipynb:4</a></li> <li> plus1(x) in Main at <a href=\"https://github.com/tobydriscoll/julia-workshop/tree/32e9dcf76c8ef7619464d973e3474fc56506eac9//modules_packages.ipynb#L1\" target=\"_blank\">/Users/driscoll/repos/julia-workshop/modules_packages.ipynb:1</a></li> </ul>"
      ],
      "text/plain": [
       "# 2 methods for generic function \"plus1\":\n",
       "[1] plus1(v::AbstractVector) in Main.Baz at /Users/driscoll/repos/julia-workshop/modules_packages.ipynb:4\n",
       "[2] plus1(x) in Main at /Users/driscoll/repos/julia-workshop/modules_packages.ipynb:1"
      ]
     },
     "metadata": {},
     "output_type": "display_data"
    }
   ],
   "source": [
    "using .Baz \n",
    "methods(plus1)"
   ]
  },
  {
   "cell_type": "code",
   "execution_count": null,
   "metadata": {},
   "outputs": [],
   "source": [
    "plus1(pi)"
   ]
  },
  {
   "cell_type": "markdown",
   "metadata": {},
   "source": [
    "You can give a module name an alias for easy typing:"
   ]
  },
  {
   "cell_type": "code",
   "execution_count": 12,
   "metadata": {},
   "outputs": [
    {
     "data": {
      "text/plain": [
       "LinearAlgebra"
      ]
     },
     "metadata": {},
     "output_type": "display_data"
    }
   ],
   "source": [
    "using LinearAlgebra\n",
    "const LA = LinearAlgebra"
   ]
  },
  {
   "cell_type": "code",
   "execution_count": 15,
   "metadata": {},
   "outputs": [
    {
     "data": {
      "text/plain": [
       "SymTridiagonal"
      ]
     },
     "metadata": {},
     "output_type": "display_data"
    }
   ],
   "source": [
    "LA.SymTridiagonal"
   ]
  },
  {
   "cell_type": "code",
   "execution_count": 21,
   "metadata": {},
   "outputs": [
    {
     "data": {
      "text/plain": [
       "Main.Fizz"
      ]
     },
     "metadata": {},
     "output_type": "display_data"
    }
   ],
   "source": [
    "include(\"foobar.jl\")"
   ]
  },
  {
   "cell_type": "markdown",
   "metadata": {},
   "source": [
    "## Creating a package\n",
    "\n",
    "To create a new package, you use `Pkg.generate` (also available at the Pkg prompt).\n"
   ]
  },
  {
   "cell_type": "code",
   "execution_count": 22,
   "metadata": {},
   "outputs": [
    {
     "name": "stderr",
     "output_type": "stream",
     "text": [
      "\u001b[32m\u001b[1m  Generating\u001b[22m\u001b[39m  project Awesome:\n",
      "    ~/Documents/Awesome/Project.toml\n",
      "    ~/Documents/Awesome/src/Awesome.jl\n"
     ]
    },
    {
     "data": {
      "text/plain": [
       "Dict{String, Base.UUID} with 1 entry:\n",
       "  \"Awesome\" => UUID(\"6cedfb59-03f5-4d74-b3b7-ed8e15897781\")"
      ]
     },
     "metadata": {},
     "output_type": "display_data"
    }
   ],
   "source": [
    "import Pkg\n",
    "loc = \"/Users/driscoll/Documents/Awesome\"\n",
    "Pkg.generate(loc)"
   ]
  },
  {
   "cell_type": "markdown",
   "metadata": {},
   "source": [
    "It generates two files:"
   ]
  },
  {
   "cell_type": "code",
   "execution_count": 23,
   "metadata": {},
   "outputs": [
    {
     "name": "stdout",
     "output_type": "stream",
     "text": [
      "Awesome\n",
      "├── src\n",
      "│   └── Awesome.jl\n",
      "└── Project.toml\n"
     ]
    },
    {
     "data": {
      "text/plain": [
       "Process(`\u001b[4mlsd\u001b[24m \u001b[4m--tree\u001b[24m \u001b[4m/Users/driscoll/Documents/Awesome\u001b[24m`, ProcessExited(0))"
      ]
     },
     "metadata": {},
     "output_type": "display_data"
    }
   ],
   "source": [
    "run(`lsd --tree $loc`)"
   ]
  },
  {
   "cell_type": "markdown",
   "metadata": {},
   "source": [
    "The `Project.toml` file tracks the dependencies of the new project."
   ]
  },
  {
   "cell_type": "code",
   "execution_count": 24,
   "metadata": {},
   "outputs": [
    {
     "name": "stdout",
     "output_type": "stream",
     "text": [
      "name = \"Awesome\"\n",
      "uuid = \"6cedfb59-03f5-4d74-b3b7-ed8e15897781\"\n",
      "authors = [\"Toby Driscoll <driscoll@udel.edu>\"]\n",
      "version = \"0.1.0\"\n"
     ]
    },
    {
     "data": {
      "text/plain": [
       "Process(`\u001b[4mcat\u001b[24m \u001b[4m/Users/driscoll/Documents/Awesome/Project.toml\u001b[24m`, ProcessExited(0))"
      ]
     },
     "metadata": {},
     "output_type": "display_data"
    }
   ],
   "source": [
    "run(`cat $loc/Project.toml`)"
   ]
  },
  {
   "cell_type": "markdown",
   "metadata": {},
   "source": [
    "The other file is a short code stub that is run when the project is imported."
   ]
  },
  {
   "cell_type": "code",
   "execution_count": 25,
   "metadata": {},
   "outputs": [
    {
     "name": "stdout",
     "output_type": "stream",
     "text": [
      "module Awesome\n",
      "\n",
      "greet() = print(\"Hello World!\")\n",
      "\n",
      "end # module Awesome\n"
     ]
    },
    {
     "data": {
      "text/plain": [
       "Process(`\u001b[4mcat\u001b[24m \u001b[4m/Users/driscoll/Documents/Awesome/src/Awesome.jl\u001b[24m`, ProcessExited(0))"
      ]
     },
     "metadata": {},
     "output_type": "display_data"
    }
   ],
   "source": [
    "run(`cat $loc/src/Awesome.jl`)"
   ]
  },
  {
   "cell_type": "markdown",
   "metadata": {},
   "source": [
    "The `Revise` package is very handy for letting you modify code in a package."
   ]
  },
  {
   "cell_type": "code",
   "execution_count": 26,
   "metadata": {},
   "outputs": [],
   "source": [
    "using Revise"
   ]
  },
  {
   "cell_type": "markdown",
   "metadata": {},
   "source": [
    "I now make the new project a dependency of the current one with `develop`:"
   ]
  },
  {
   "cell_type": "code",
   "execution_count": 27,
   "metadata": {},
   "outputs": [
    {
     "name": "stderr",
     "output_type": "stream",
     "text": [
      "\u001b[32m\u001b[1m   Resolving\u001b[22m\u001b[39m package versions...\n"
     ]
    },
    {
     "name": "stderr",
     "output_type": "stream",
     "text": [
      "\u001b[32m\u001b[1m    Updating\u001b[22m\u001b[39m `~/repos/julia-workshop/Project.toml`\n",
      " \u001b[90m [6cedfb59] \u001b[39m\u001b[92m+ Awesome v0.1.0 `~/Documents/Awesome`\u001b[39m\n",
      "\u001b[32m\u001b[1m    Updating\u001b[22m\u001b[39m `~/repos/julia-workshop/Manifest.toml`\n"
     ]
    },
    {
     "name": "stderr",
     "output_type": "stream",
     "text": [
      " \u001b[90m [6cedfb59] \u001b[39m\u001b[92m+ Awesome v0.1.0 `~/Documents/Awesome`\u001b[39m\n"
     ]
    }
   ],
   "source": [
    "Pkg.develop(path=loc)"
   ]
  },
  {
   "cell_type": "code",
   "execution_count": 28,
   "metadata": {},
   "outputs": [
    {
     "name": "stdout",
     "output_type": "stream",
     "text": [
      "\u001b[32m\u001b[1mStatus\u001b[22m\u001b[39m `~/repos/julia-workshop/Project.toml`\n",
      " \u001b[90m [7d9fca2a] \u001b[39mArpack v0.5.3\n",
      " \u001b[90m [6cedfb59] \u001b[39mAwesome v0.1.0 `~/Documents/Awesome`\n",
      " \u001b[90m [39de3d68] \u001b[39mAxisArrays v0.4.6\n",
      " \u001b[90m [6e4b80f9] \u001b[39mBenchmarkTools v1.3.1\n",
      " \u001b[90m [336ed68f] \u001b[39mCSV v0.10.4\n",
      " \u001b[90m [b0b7db55] \u001b[39mComponentArrays v0.12.2\n",
      " \u001b[90m [a93c6f00] \u001b[39mDataFrames v1.3.4\n",
      "\u001b[32m⌃\u001b[39m\u001b[90m [0c46a032] \u001b[39mDifferentialEquations v7.1.0\n",
      "\u001b[32m⌃\u001b[39m\u001b[90m [0703355e] \u001b[39mDimensionalData v0.20.8\n",
      "\u001b[32m⌃\u001b[39m\u001b[90m [31c24e10] \u001b[39mDistributions v0.25.62\n",
      " \u001b[90m [634d3b9d] \u001b[39mDrWatson v2.9.1\n",
      " \u001b[90m [5789e2e9] \u001b[39mFileIO v1.14.0\n",
      " \u001b[90m [f67ccb44] \u001b[39mHDF5 v0.16.10\n",
      " \u001b[90m [7073ff75] \u001b[39mIJulia v1.23.3\n",
      " \u001b[90m [5903a43b] \u001b[39mInfiltrator v1.5.0\n",
      "\u001b[32m⌃\u001b[39m\u001b[90m [c3a54625] \u001b[39mJET v0.5.16\n",
      " \u001b[90m [033835bb] \u001b[39mJLD2 v0.4.22\n",
      "\u001b[32m⌃\u001b[39m\u001b[90m [6fe1bfb0] \u001b[39mOffsetArrays v1.12.6\n",
      " \u001b[90m [f0f68f2c] \u001b[39mPlotlyJS v0.18.8\n",
      "\u001b[32m⌃\u001b[39m\u001b[90m [91a5bcdd] \u001b[39mPlots v1.30.1\n",
      " \u001b[90m [c3e4b0f8] \u001b[39mPluto v0.19.9\n",
      " \u001b[90m [08abe8d2] \u001b[39mPrettyTables v1.3.1\n",
      " \u001b[90m [5f89f4a4] \u001b[39mPyFormattedStrings v0.1.10\n",
      " \u001b[90m [1a8c2f83] \u001b[39mQuery v1.0.0\n",
      "\u001b[32m⌃\u001b[39m\u001b[90m [90137ffa] \u001b[39mStaticArrays v1.5.0\n",
      " \u001b[90m [1986cc42] \u001b[39mUnitful v1.11.0\n",
      " \u001b[90m [37e2e46d] \u001b[39mLinearAlgebra\n",
      " \u001b[90m [10745b16] \u001b[39mStatistics\n",
      "\u001b[36m\u001b[1mInfo\u001b[22m\u001b[39m Packages marked with \u001b[32m⌃\u001b[39m have new versions available\n"
     ]
    }
   ],
   "source": [
    "Pkg.status()"
   ]
  },
  {
   "cell_type": "markdown",
   "metadata": {},
   "source": [
    "This makes the package available to import."
   ]
  },
  {
   "cell_type": "code",
   "execution_count": 29,
   "metadata": {},
   "outputs": [],
   "source": [
    "using Awesome"
   ]
  },
  {
   "cell_type": "code",
   "execution_count": 30,
   "metadata": {},
   "outputs": [
    {
     "name": "stdout",
     "output_type": "stream",
     "text": [
      "Hello World!"
     ]
    }
   ],
   "source": [
    "Awesome.greet()"
   ]
  },
  {
   "cell_type": "markdown",
   "metadata": {},
   "source": [
    "In order to work on the new subproject, it's best to switch to it using `activate`."
   ]
  },
  {
   "cell_type": "code",
   "execution_count": 32,
   "metadata": {},
   "outputs": [
    {
     "name": "stderr",
     "output_type": "stream",
     "text": [
      "\u001b[32m\u001b[1m  Activating\u001b[22m\u001b[39m project at `~/Documents/Awesome`\n"
     ]
    }
   ],
   "source": [
    "Pkg.activate(loc)"
   ]
  },
  {
   "cell_type": "markdown",
   "metadata": {},
   "source": [
    "Now we can add a dependency to `Awesome`:"
   ]
  },
  {
   "cell_type": "code",
   "execution_count": 33,
   "metadata": {},
   "outputs": [
    {
     "name": "stdout",
     "output_type": "stream",
     "text": [
      "\u001b[36m\u001b[1mProject\u001b[22m\u001b[39m Awesome v0.1.0\n",
      "\u001b[32m\u001b[1mStatus\u001b[22m\u001b[39m `~/Dropbox/My Mac (Math-Driscoll-MBP.local)/Documents/Awesome/Project.toml` (empty project)\n"
     ]
    }
   ],
   "source": [
    "Pkg.status()"
   ]
  },
  {
   "cell_type": "code",
   "execution_count": 34,
   "metadata": {},
   "outputs": [
    {
     "name": "stderr",
     "output_type": "stream",
     "text": [
      "\u001b[32m\u001b[1m    Updating\u001b[22m\u001b[39m registry at `~/.julia/registries/General.toml`\n"
     ]
    },
    {
     "name": "stderr",
     "output_type": "stream",
     "text": [
      "\u001b[32m\u001b[1m   Resolving\u001b[22m\u001b[39m package versions...\n",
      "\u001b[32m\u001b[1m    Updating\u001b[22m\u001b[39m `~/Dropbox/My Mac (Math-Driscoll-MBP.local)/Documents/Awesome/Project.toml`\n",
      " \u001b[90m [37e2e46d] \u001b[39m\u001b[92m+ LinearAlgebra\u001b[39m\n",
      "\u001b[32m\u001b[1m    Updating\u001b[22m\u001b[39m `~/Dropbox/My Mac (Math-Driscoll-MBP.local)/Documents/Awesome/Manifest.toml`\n",
      " \u001b[90m [56f22d72] \u001b[39m\u001b[92m+ Artifacts\u001b[39m\n",
      " \u001b[90m [8f399da3] \u001b[39m\u001b[92m+ Libdl\u001b[39m\n",
      " \u001b[90m [37e2e46d] \u001b[39m\u001b[92m+ LinearAlgebra\u001b[39m\n",
      " \u001b[90m [e66e0078] \u001b[39m\u001b[92m+ CompilerSupportLibraries_jll v0.5.2+0\u001b[39m\n",
      " \u001b[90m [4536629a] \u001b[39m\u001b[92m+ OpenBLAS_jll v0.3.20+0\u001b[39m\n",
      " \u001b[90m [8e850b90] \u001b[39m\u001b[92m+ libblastrampoline_jll v5.1.0+0\u001b[39m\n"
     ]
    }
   ],
   "source": [
    "Pkg.add(\"LinearAlgebra\")"
   ]
  },
  {
   "cell_type": "code",
   "execution_count": 35,
   "metadata": {},
   "outputs": [
    {
     "name": "stdout",
     "output_type": "stream",
     "text": [
      "\u001b[36m\u001b[1mProject\u001b[22m\u001b[39m Awesome v0.1.0\n",
      "\u001b[32m\u001b[1mStatus\u001b[22m\u001b[39m `~/Dropbox/My Mac (Math-Driscoll-MBP.local)/Documents/Awesome/Project.toml`\n",
      " \u001b[90m [37e2e46d] \u001b[39mLinearAlgebra\n"
     ]
    }
   ],
   "source": [
    "Pkg.status()"
   ]
  },
  {
   "cell_type": "markdown",
   "metadata": {},
   "source": [
    "Here is a file that I use to replace the original code stub:"
   ]
  },
  {
   "cell_type": "code",
   "execution_count": 36,
   "metadata": {},
   "outputs": [
    {
     "data": {
      "text/plain": [
       "\"/Users/driscoll/Documents/Awesome/src/Awesome.jl\""
      ]
     },
     "metadata": {},
     "output_type": "display_data"
    }
   ],
   "source": [
    "cp(\"Awesome.jl\",\"$loc/src/Awesome.jl\",force=true)"
   ]
  },
  {
   "cell_type": "code",
   "execution_count": 37,
   "metadata": {},
   "outputs": [
    {
     "name": "stdout",
     "output_type": "stream",
     "text": [
      "module Awesome\n",
      "\n",
      "using LinearAlgebra\n",
      "myglobal = 22/7\n",
      "\n",
      "export plus1\n",
      "\n",
      "plus1(x) = 1 + x \n",
      "plus1(X::AbstractMatrix) = I + X\n",
      "plus1(t::Tuple) = (1,t...)\n",
      "\n",
      "end # module\n"
     ]
    },
    {
     "data": {
      "text/plain": [
       "Process(`\u001b[4mcat\u001b[24m \u001b[4m/Users/driscoll/Documents/Awesome/src/Awesome.jl\u001b[24m`, ProcessExited(0))"
      ]
     },
     "metadata": {},
     "output_type": "display_data"
    }
   ],
   "source": [
    "run(`cat $loc/src/Awesome.jl`)\n"
   ]
  },
  {
   "cell_type": "markdown",
   "metadata": {},
   "source": [
    "Having changed `Awesome`, we return to the project in the current directory. (The default project is global to the version number, not local to the directory.)"
   ]
  },
  {
   "cell_type": "code",
   "execution_count": 40,
   "metadata": {},
   "outputs": [
    {
     "name": "stderr",
     "output_type": "stream",
     "text": [
      "\u001b[32m\u001b[1m  Activating\u001b[22m\u001b[39m project at `~/repos/julia-workshop`\n"
     ]
    }
   ],
   "source": [
    "Pkg.activate(\".\")"
   ]
  },
  {
   "cell_type": "code",
   "execution_count": 41,
   "metadata": {},
   "outputs": [
    {
     "name": "stdout",
     "output_type": "stream",
     "text": [
      "\u001b[32m\u001b[1mStatus\u001b[22m\u001b[39m `~/repos/julia-workshop/Project.toml`\n",
      " \u001b[90m [7d9fca2a] \u001b[39mArpack v0.5.3\n",
      " \u001b[90m [6cedfb59] \u001b[39mAwesome v0.1.0 `~/Documents/Awesome`\n",
      " \u001b[90m [39de3d68] \u001b[39mAxisArrays v0.4.6\n",
      " \u001b[90m [6e4b80f9] \u001b[39mBenchmarkTools v1.3.1\n",
      " \u001b[90m [336ed68f] \u001b[39mCSV v0.10.4\n",
      " \u001b[90m [b0b7db55] \u001b[39mComponentArrays v0.12.2\n",
      " \u001b[90m [a93c6f00] \u001b[39mDataFrames v1.3.4\n",
      "\u001b[32m⌃\u001b[39m\u001b[90m [0c46a032] \u001b[39mDifferentialEquations v7.1.0\n",
      "\u001b[32m⌃\u001b[39m\u001b[90m [0703355e] \u001b[39mDimensionalData v0.20.8\n",
      "\u001b[32m⌃\u001b[39m\u001b[90m [31c24e10] \u001b[39mDistributions v0.25.62\n",
      " \u001b[90m [634d3b9d] \u001b[39mDrWatson v2.9.1\n",
      " \u001b[90m [5789e2e9] \u001b[39mFileIO v1.14.0\n",
      " \u001b[90m [f67ccb44] \u001b[39mHDF5 v0.16.10\n",
      " \u001b[90m [7073ff75] \u001b[39mIJulia v1.23.3\n",
      " \u001b[90m [5903a43b] \u001b[39mInfiltrator v1.5.0\n",
      "\u001b[32m⌃\u001b[39m\u001b[90m [c3a54625] \u001b[39mJET v0.5.16\n",
      " \u001b[90m [033835bb] \u001b[39mJLD2 v0.4.22\n",
      "\u001b[32m⌃\u001b[39m\u001b[90m [6fe1bfb0] \u001b[39mOffsetArrays v1.12.6\n",
      " \u001b[90m [f0f68f2c] \u001b[39mPlotlyJS v0.18.8\n",
      "\u001b[32m⌃\u001b[39m\u001b[90m [91a5bcdd] \u001b[39mPlots v1.30.1\n",
      " \u001b[90m [c3e4b0f8] \u001b[39mPluto v0.19.9\n",
      " \u001b[90m [08abe8d2] \u001b[39mPrettyTables v1.3.1\n",
      " \u001b[90m [5f89f4a4] \u001b[39mPyFormattedStrings v0.1.10\n",
      " \u001b[90m [1a8c2f83] \u001b[39mQuery v1.0.0\n",
      "\u001b[32m⌃\u001b[39m\u001b[90m [90137ffa] \u001b[39mStaticArrays v1.5.0\n",
      " \u001b[90m [1986cc42] \u001b[39mUnitful v1.11.0\n",
      " \u001b[90m [37e2e46d] \u001b[39mLinearAlgebra\n",
      " \u001b[90m [10745b16] \u001b[39mStatistics\n",
      "\u001b[36m\u001b[1mInfo\u001b[22m\u001b[39m Packages marked with \u001b[32m⌃\u001b[39m have new versions available\n"
     ]
    }
   ],
   "source": [
    "Pkg.status()"
   ]
  },
  {
   "cell_type": "markdown",
   "metadata": {},
   "source": [
    "Our new code is ready for use."
   ]
  },
  {
   "cell_type": "code",
   "execution_count": 42,
   "metadata": {},
   "outputs": [],
   "source": [
    "using Awesome"
   ]
  },
  {
   "cell_type": "code",
   "execution_count": 43,
   "metadata": {},
   "outputs": [
    {
     "data": {
      "text/plain": [
       "2"
      ]
     },
     "metadata": {},
     "output_type": "display_data"
    }
   ],
   "source": [
    "Awesome.plus1(1)"
   ]
  },
  {
   "cell_type": "markdown",
   "metadata": {},
   "source": [
    "And finally, I just remove the package from this project (so that I can delete that code later)."
   ]
  },
  {
   "cell_type": "code",
   "execution_count": 48,
   "metadata": {},
   "outputs": [
    {
     "name": "stderr",
     "output_type": "stream",
     "text": [
      "\u001b[32m\u001b[1m    Updating\u001b[22m\u001b[39m `~/repos/julia-workshop/Project.toml`\n",
      " \u001b[90m [6cedfb59] \u001b[39m\u001b[91m- Awesome v0.1.0 `~/Documents/Awesome`\u001b[39m\n",
      "\u001b[32m\u001b[1m    Updating\u001b[22m\u001b[39m `~/repos/julia-workshop/Manifest.toml`\n"
     ]
    },
    {
     "name": "stderr",
     "output_type": "stream",
     "text": [
      " \u001b[90m [6cedfb59] \u001b[39m\u001b[91m- Awesome v0.1.0 `~/Documents/Awesome`\u001b[39m\n"
     ]
    }
   ],
   "source": [
    "Pkg.rm(\"Awesome\")"
   ]
  }
 ],
 "metadata": {
  "kernelspec": {
   "display_name": "Julia 1.8.0-rc1",
   "language": "julia",
   "name": "julia-1.8"
  },
  "language_info": {
   "file_extension": ".jl",
   "mimetype": "application/julia",
   "name": "julia",
   "version": "1.8.0-rc1"
  },
  "orig_nbformat": 4
 },
 "nbformat": 4,
 "nbformat_minor": 2
}
